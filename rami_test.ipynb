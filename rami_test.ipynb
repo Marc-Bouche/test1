{
 "cells": [
  {
   "cell_type": "code",
   "execution_count": 1,
   "id": "9ae11543",
   "metadata": {},
   "outputs": [],
   "source": [
    "# this is a test file"
   ]
  },
  {
   "cell_type": "code",
   "execution_count": 2,
   "id": "ac7064f9",
   "metadata": {},
   "outputs": [],
   "source": [
    "#he;;p he"
   ]
  },
  {
   "cell_type": "code",
   "execution_count": null,
   "id": "6bfd5ec0-b179-4570-94c0-b0392836f56b",
   "metadata": {},
   "outputs": [],
   "source": []
  }
 ],
 "metadata": {
  "kernelspec": {
   "display_name": "Python 3 (ipykernel)",
   "language": "python",
   "name": "python3"
  },
  "language_info": {
   "codemirror_mode": {
    "name": "ipython",
    "version": 3
   },
   "file_extension": ".py",
   "mimetype": "text/x-python",
   "name": "python",
   "nbconvert_exporter": "python",
   "pygments_lexer": "ipython3",
   "version": "3.12.4"
  }
 },
 "nbformat": 4,
 "nbformat_minor": 5
}
